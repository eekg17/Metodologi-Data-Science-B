{
  "nbformat": 4,
  "nbformat_minor": 0,
  "metadata": {
    "colab": {
      "name": "Untitled13.ipynb",
      "private_outputs": true,
      "provenance": []
    },
    "kernelspec": {
      "name": "python3",
      "display_name": "Python 3"
    },
    "language_info": {
      "name": "python"
    }
  },
  "cells": [
    {
      "cell_type": "code",
      "source": [
        "import pandas as pd\n",
        "import numpy as np"
      ],
      "metadata": {
        "id": "GWkFNn4w50eH"
      },
      "execution_count": null,
      "outputs": []
    },
    {
      "cell_type": "code",
      "source": [
        "path = \"epl-goalScorer(20-21).csv\"\n",
        "df = pd.read_csv(path)\n",
        "df.head(8)"
      ],
      "metadata": {
        "id": "05MXpUbE735O"
      },
      "execution_count": null,
      "outputs": []
    },
    {
      "cell_type": "code",
      "source": [
        "df.tail(10)"
      ],
      "metadata": {
        "id": "YbleH8nk78H8"
      },
      "execution_count": null,
      "outputs": []
    },
    {
      "cell_type": "code",
      "source": [
        "df.dtypes"
      ],
      "metadata": {
        "id": "CoYBKjE68AKt"
      },
      "execution_count": null,
      "outputs": []
    },
    {
      "cell_type": "code",
      "source": [
        "len(df.dtypes)"
      ],
      "metadata": {
        "id": "eDqzmx3S8FAU"
      },
      "execution_count": null,
      "outputs": []
    },
    {
      "cell_type": "code",
      "source": [
        "df_tanpaid = df.iloc[:,2:]\n",
        "df_tanpaid"
      ],
      "metadata": {
        "id": "cMrzA6o18Jrj"
      },
      "execution_count": null,
      "outputs": []
    },
    {
      "cell_type": "code",
      "source": [
        "df_rapi = df_tanpaid.sort_values(by=\"player_name\",ascending=True)\n",
        "df_rapi.head(10)"
      ],
      "metadata": {
        "id": "c2igBxm78NXh"
      },
      "execution_count": null,
      "outputs": []
    },
    {
      "cell_type": "code",
      "source": [
        "df_rapi = df_tanpaid.sort_values(by=\"assists\",ascending=False)\n",
        "df_rapi.head(10)"
      ],
      "metadata": {
        "id": "9aABV3bz8R4B"
      },
      "execution_count": null,
      "outputs": []
    },
    {
      "cell_type": "code",
      "source": [
        "df_rapi.describe(include='all')"
      ],
      "metadata": {
        "id": "pXiT7VDW8U_6"
      },
      "execution_count": null,
      "outputs": []
    },
    {
      "cell_type": "code",
      "source": [
        "df_rapi [['goals', 'games', 'assists', 'shots']].mean()"
      ],
      "metadata": {
        "id": "2aWo5Kvi8bdM"
      },
      "execution_count": null,
      "outputs": []
    },
    {
      "cell_type": "code",
      "source": [
        "df_rapi [['team_title']].mode()"
      ],
      "metadata": {
        "id": "DLi2Zwfy8cua"
      },
      "execution_count": null,
      "outputs": []
    }
  ]
}