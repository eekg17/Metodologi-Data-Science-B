{
  "nbformat": 4,
  "nbformat_minor": 0,
  "metadata": {
    "colab": {
      "name": "5b_Classification_dengan_DTree.ipynb",
      "private_outputs": true,
      "provenance": []
    },
    "kernelspec": {
      "name": "python3",
      "display_name": "Python 3"
    },
    "language_info": {
      "name": "python"
    }
  },
  "cells": [
    {
      "cell_type": "markdown",
      "source": [
        "Decision Tree"
      ],
      "metadata": {
        "id": "uY3CSrAwrIto"
      }
    },
    {
      "cell_type": "code",
      "source": [
        "import numpy as np \n",
        "import pandas as pd\n",
        "from sklearn.tree import DecisionTreeClassifier"
      ],
      "metadata": {
        "id": "3mZA_7nqrL7m"
      },
      "execution_count": null,
      "outputs": []
    },
    {
      "cell_type": "code",
      "source": [
        "!wget -O drug200.csv https://s3-api.us-geo.objectstorage.softlayer.net/cf-courses-data/CognitiveClass/ML0101ENv3/labs/drug200.csv"
      ],
      "metadata": {
        "id": "eI9e7613rOAa"
      },
      "execution_count": null,
      "outputs": []
    },
    {
      "cell_type": "code",
      "source": [
        "my_data = pd.read_csv(\"drug200.csv\", delimiter=\",\")\n",
        "my_data[0:5]"
      ],
      "metadata": {
        "id": "Jmzi3VP5rSPV"
      },
      "execution_count": null,
      "outputs": []
    },
    {
      "cell_type": "code",
      "source": [
        "X = my_data[['Age', 'Sex', 'BP', 'Cholesterol', 'Na_to_K']].values\n",
        "X[0:5]"
      ],
      "metadata": {
        "id": "IyUp3PHyrUyE"
      },
      "execution_count": null,
      "outputs": []
    },
    {
      "cell_type": "code",
      "source": [
        "from sklearn import preprocessing\n",
        "le_sex = preprocessing.LabelEncoder()\n",
        "le_sex.fit(['F','M'])\n",
        "X[:,1] = le_sex.transform(X[:,1]) \n",
        "\n",
        "\n",
        "le_BP = preprocessing.LabelEncoder()\n",
        "le_BP.fit([ 'LOW', 'NORMAL', 'HIGH'])\n",
        "X[:,2] = le_BP.transform(X[:,2])\n",
        "\n",
        "\n",
        "le_Chol = preprocessing.LabelEncoder()\n",
        "le_Chol.fit([ 'NORMAL', 'HIGH'])\n",
        "X[:,3] = le_Chol.transform(X[:,3]) \n",
        "\n",
        "X[0:5]"
      ],
      "metadata": {
        "id": "zhJ6WGwNrXjF"
      },
      "execution_count": null,
      "outputs": []
    },
    {
      "cell_type": "code",
      "source": [
        "y = my_data[\"Drug\"]\n",
        "y[0:5]"
      ],
      "metadata": {
        "id": "UwjTaTBirawk"
      },
      "execution_count": null,
      "outputs": []
    },
    {
      "cell_type": "code",
      "source": [
        "from sklearn.model_selection import train_test_split"
      ],
      "metadata": {
        "id": "dlvcBZ7JrdnU"
      },
      "execution_count": null,
      "outputs": []
    },
    {
      "cell_type": "code",
      "source": [
        "X_trainset, X_testset, y_trainset, y_testset = train_test_split(X, y, test_size=0.3, random_state=3)"
      ],
      "metadata": {
        "id": "djxcpCOkrf3k"
      },
      "execution_count": null,
      "outputs": []
    },
    {
      "cell_type": "code",
      "source": [
        "drugTree = DecisionTreeClassifier(criterion=\"gini\", max_depth = 10)\n",
        "drugTree # it shows the default parameters"
      ],
      "metadata": {
        "id": "3qOkxHqFrh61"
      },
      "execution_count": null,
      "outputs": []
    },
    {
      "cell_type": "code",
      "source": [
        "drugTree.fit(X_trainset,y_trainset)"
      ],
      "metadata": {
        "id": "_tLLgUV_rjvE"
      },
      "execution_count": null,
      "outputs": []
    },
    {
      "cell_type": "code",
      "source": [
        "predTree = drugTree.predict(X_testset)"
      ],
      "metadata": {
        "id": "NV01ZC1QrloV"
      },
      "execution_count": null,
      "outputs": []
    },
    {
      "cell_type": "code",
      "source": [
        "print (predTree [0:5])\n",
        "print (y_testset [0:5])"
      ],
      "metadata": {
        "id": "SlJSuIHKrnVk"
      },
      "execution_count": null,
      "outputs": []
    },
    {
      "cell_type": "code",
      "source": [
        "from sklearn import metrics\n",
        "import matplotlib.pyplot as plt\n",
        "print(\"Akurasi dengan model DecisionTrees: \", metrics.accuracy_score(y_testset, predTree))"
      ],
      "metadata": {
        "id": "VUDoqzkprpQU"
      },
      "execution_count": null,
      "outputs": []
    },
    {
      "cell_type": "code",
      "source": [
        "#Tulis kodingmu di sini....\n",
        "#define Jaccard Similarity function\n",
        "def jaccard(list1, list2):\n",
        "    intersection = len(list(set(list1).intersection(list2)))\n",
        "    union = (len(list1) + len(list2)) - intersection\n",
        "    return float(intersection) / union"
      ],
      "metadata": {
        "id": "owrPpJQtrrY0"
      },
      "execution_count": null,
      "outputs": []
    },
    {
      "cell_type": "code",
      "source": [
        "print(\"Akurasi dengan Jaccard Index : \",jaccard(y_testset, predTree))"
      ],
      "metadata": {
        "id": "2NYfWKwqrtv0"
      },
      "execution_count": null,
      "outputs": []
    },
    {
      "cell_type": "code",
      "source": [
        "!apt-get -qq install -y graphviz && pip install -q pydotplus\n",
        "from six import StringIO\n",
        "import pydotplus\n",
        "import matplotlib.image as mpimg\n",
        "from sklearn import tree\n",
        "%matplotlib inline "
      ],
      "metadata": {
        "id": "-ahae-_arvek"
      },
      "execution_count": null,
      "outputs": []
    },
    {
      "cell_type": "code",
      "source": [
        "dot_data = StringIO()\n",
        "filename = \"drugtree.png\"\n",
        "featureNames = my_data.columns[0:5]\n",
        "targetNames = my_data[\"Drug\"].unique().tolist()\n",
        "out=tree.export_graphviz(drugTree,feature_names=featureNames, out_file=dot_data, class_names= np.unique(y_trainset), filled=True,  special_characters=True,rotate=False)  \n",
        "graph = pydotplus.graph_from_dot_data(dot_data.getvalue())  \n",
        "graph.write_png(filename)\n",
        "img = mpimg.imread(filename)\n",
        "plt.figure(figsize=(10, 20))\n",
        "plt.imshow(img,interpolation='nearest')"
      ],
      "metadata": {
        "id": "GlYuTBJWrxWH"
      },
      "execution_count": null,
      "outputs": []
    },
    {
      "cell_type": "code",
      "source": [
        ""
      ],
      "metadata": {
        "id": "bZFAz96gr0V0"
      },
      "execution_count": null,
      "outputs": []
    }
  ]
}