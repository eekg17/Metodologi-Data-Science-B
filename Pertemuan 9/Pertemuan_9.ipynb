{
  "nbformat": 4,
  "nbformat_minor": 0,
  "metadata": {
    "colab": {
      "name": "Pertemuan 9.ipynb",
      "private_outputs": true,
      "provenance": []
    },
    "kernelspec": {
      "name": "python3",
      "display_name": "Python 3"
    },
    "language_info": {
      "name": "python"
    }
  },
  "cells": [
    {
      "cell_type": "code",
      "execution_count": null,
      "metadata": {
        "id": "rlhKPLHGyugM"
      },
      "outputs": [],
      "source": [
        "#1. Dataset\n",
        "from sklearn import datasets\n",
        "iris = datasets.load_iris()\n",
        "x = iris.data\n",
        "y = iris.target"
      ]
    },
    {
      "cell_type": "code",
      "source": [
        "print(\"Banyak data: \",len(x))"
      ],
      "metadata": {
        "id": "PmG9o8_vzD3I"
      },
      "execution_count": null,
      "outputs": []
    },
    {
      "cell_type": "code",
      "source": [
        "print('15 data pertama: ')\n",
        "print(x[:15])"
      ],
      "metadata": {
        "id": "73LndUAWzFcW"
      },
      "execution_count": null,
      "outputs": []
    },
    {
      "cell_type": "code",
      "source": [
        "#2. Split data\n",
        "from sklearn.model_selection import train_test_split\n",
        "x_train, x_test, y_train, y_test = train_test_split(x,y,train_size = 0.7)"
      ],
      "metadata": {
        "id": "AHXs4ZJ7zJTx"
      },
      "execution_count": null,
      "outputs": []
    },
    {
      "cell_type": "code",
      "source": [
        "print('Banyak data latih: ', len(x_train))\n",
        "print('Banyak data latih: ', len(x_test))"
      ],
      "metadata": {
        "id": "4VE20WcBzYLx"
      },
      "execution_count": null,
      "outputs": []
    },
    {
      "cell_type": "code",
      "source": [
        "#K-Fold\n",
        "from sklearn.model_selection import cross_val_score\n",
        "from sklearn.svm import SVC\n",
        "\n",
        "model = SVC(kernel='linear', C=1)\n",
        "scores = cross_val_score(model,x,y,cv=5)\n",
        "print(\"Akurasi svm setiap fold: \",scores)\n",
        "print(\"Akurasi svm demgam lima fold: \",scores.mean)"
      ],
      "metadata": {
        "id": "-7-crHGzzaKR"
      },
      "execution_count": null,
      "outputs": []
    },
    {
      "cell_type": "code",
      "source": [
        "#ujicoba model klasifikasi\n",
        "#1. KNN\n",
        "from sklearn.neighbors import KNeighborsClassifier\n",
        "from sklearn import metrics\n",
        "\n",
        "knn = KNeighborsClassifier()\n",
        "\n",
        "knn.fit(x_train, y_train)\n",
        "y_pred = knn.predict(x_test)\n",
        "score = metrics.accuracy_score(y_test,y_pred)\n",
        "print('Akurasi: ',score)"
      ],
      "metadata": {
        "id": "dxNnaIJazcUh"
      },
      "execution_count": null,
      "outputs": []
    },
    {
      "cell_type": "code",
      "source": [
        "#DTree\n",
        "from sklearn.tree import DecisionTreeClassifier\n",
        "from sklearn import metrics\n",
        "\n",
        "dt = DecisionTreeClassifier(max_depth = None, min_samples_split= 2)\n",
        "dt.fit(x_train, y_train)\n",
        "\n",
        "y_pred = dt.predict(x_test)\n",
        "score = metrics.accuracy_score(y_test,y_pred)\n",
        "print('Akurasi: ',score)"
      ],
      "metadata": {
        "id": "ID0SaANjzeUB"
      },
      "execution_count": null,
      "outputs": []
    },
    {
      "cell_type": "code",
      "source": [
        "#SVM\n",
        "from sklearn.svm import SVC\n",
        "from sklearn import metrics\n",
        "\n",
        "svm = SVC(kernel='rbf', C = 1, gamma = 0.01)\n",
        "svm.fit(x_train, y_train)\n",
        "y_pred = svm.predict(x_test)\n",
        "score = metrics.accuracy_score(y_test,y_pred)\n",
        "print('Akurasi: ',score)"
      ],
      "metadata": {
        "id": "DzVQ2VdqzgCB"
      },
      "execution_count": null,
      "outputs": []
    },
    {
      "cell_type": "code",
      "source": [
        "svmLinear = SVC(kernel='linear', C = 1)\n",
        "svmLinear.fit(x_train, y_train)\n",
        "y_pred = svmLinear.predict(x_test)\n",
        "score = metrics.accuracy_score(y_test,y_pred)\n",
        "print('Akurasi: ',score)"
      ],
      "metadata": {
        "id": "IlM4QrglzpNR"
      },
      "execution_count": null,
      "outputs": []
    },
    {
      "cell_type": "code",
      "source": [
        "#4.  Logistic Regression\n",
        "from sklearn.linear_model import LogisticRegression\n",
        "from sklearn import metrics\n",
        "\n",
        "lr = LogisticRegression()\n",
        "lr.fit(x_train, y_train)\n",
        "y_pred = lr.predict(x_test)\n",
        "score = metrics.accuracy_score(y_test,y_pred)\n",
        "print('Akurasi: ',score)"
      ],
      "metadata": {
        "id": "ZdtuDWaCzq9R"
      },
      "execution_count": null,
      "outputs": []
    },
    {
      "cell_type": "code",
      "source": [
        "#5. Naive Bayes\n",
        "from sklearn.naive_bayes import BernoulliNB\n",
        "from sklearn import metrics\n",
        "\n",
        "nb = BernoulliNB()\n",
        "nb.fit(x_train, y_train)\n",
        "y_pred = nb.predict(x_test)\n",
        "score = metrics.accuracy_score(y_test,y_pred)\n",
        "print('Akurasi: ',score)"
      ],
      "metadata": {
        "id": "EBKWVek2zszR"
      },
      "execution_count": null,
      "outputs": []
    },
    {
      "cell_type": "code",
      "source": [
        ""
      ],
      "metadata": {
        "id": "5dCMew0Fzum0"
      },
      "execution_count": null,
      "outputs": []
    }
  ]
}